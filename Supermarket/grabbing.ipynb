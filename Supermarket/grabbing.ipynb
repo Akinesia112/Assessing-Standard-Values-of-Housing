{
 "cells": [
  {
   "cell_type": "code",
   "execution_count": null,
   "metadata": {},
   "outputs": [],
   "source": [
    "import requests\n",
    "from bs4 import BeautifulSoup\n",
    "url = 'https://travel.ettoday.net/category/桃園/'\n",
    "response = requests.get(url)\n",
    "soup = BeautifulSoup(response.text, \"html.parser\")\n",
    "result = soup.select(\"h3\") #find()"
   ]
  },
  {
   "cell_type": "code",
   "execution_count": null,
   "metadata": {},
   "outputs": [],
   "source": [
    "result[0].get_text(strip=True)"
   ]
  },
  {
   "cell_type": "code",
   "execution_count": null,
   "metadata": {},
   "outputs": [],
   "source": [
    "result_text = []\n",
    "for n in result:\n",
    "    print(n.text.strip()) #.replace(u'\\u3000', u' ')\n",
    "    result_text.append(n.text.strip())"
   ]
  },
  {
   "cell_type": "code",
   "execution_count": null,
   "metadata": {},
   "outputs": [],
   "source": [
    "result_text"
   ]
  },
  {
   "cell_type": "markdown",
   "metadata": {}
   "source": [
    
   ]
  },
  {
   "cell_type": "code",
   "execution_count": 2,
   "metadata": {},
   "outputs": [
    {
     "name": "stdout",
     "output_type": "stream",
     "text": [
      "['TABLE_NAME ', '-----------', '村里人口       ', '村里所得       ', '實價登錄       ', '經濟三級發布區用水資料', '經濟三級發布區用電資料', '經濟三級發布區發票資料', '商家基本資料     ', '公司基本資料     ', '工廠基本資料     ', '腳踏車站點資料    ', '公車站點資料     ', '捷運站點資料     ', '火車站點資料     ', '停車場資料      ', '郵局據點資料     ', '國小基本資料     ', '國中基本資料     ', '高中基本資料     ', '大學基本資料     ', '醫療機構基本資料   ', 'ATM資料      ', '金融機構基本資料   ', '飲食店家       ']\n"
     ]
    }
   ],
   "source": [
    "import requests\n",
    "from bs4 import BeautifulSoup\n",
    "url = 'http://uclabdb.ee.ncku.edu.tw/api/custom_command/sinopac_data?command=SELECT%20TABLE_NAME%20FROM%20INFORMATION_SCHEMA.TABLES'\n",
    "response = requests.get(url)\n",
    "print(response.json())"
   ]
  },
  {
   "cell_type": "code",
   "execution_count": null,
   "metadata": {},
   "outputs": [],
   "source": [
    "|"
   ]
  }
 ],
 "metadata": {
  "kernelspec": {
   "display_name": "Python 3.9.12 ('base')",
   "language": "python",
   "name": "python3"
  },
  "language_info": {
   "codemirror_mode": {
    "name": "ipython",
    "version": 3
   },
   "file_extension": ".py",
   "mimetype": "text/x-python",
   "name": "python",
   "nbconvert_exporter": "python",
   "pygments_lexer": "ipython3",
   "version": "3.9.12"
  },
  "orig_nbformat": 4,
  "vscode": {
   "interpreter": {
    "hash": "0c9a1f7472274fa4c180ec6084d12979c10d68d9c92bbcd3af2c905ed5d10a5a"
   }
  }
 },
 "nbformat": 4,
 "nbformat_minor": 2
}
